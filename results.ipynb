{
 "cells": [
  {
   "cell_type": "code",
   "execution_count": null,
   "metadata": {},
   "outputs": [],
   "source": [
    "import json\n",
    "import numpy as np\n",
    "import pandas as pd\n",
    "import plotly.graph_objects as go\n",
    "\n",
    "from collections import Counter\n",
    "\n",
    "from constants import FONT\n",
    "from constants import COW_RESULTS\n",
    "from constants import LOCATION_MAPPING_AT\n",
    "from constants import DF_COW"
   ]
  },
  {
   "cell_type": "code",
   "execution_count": null,
   "metadata": {},
   "outputs": [],
   "source": [
    "df_results = pd.read_csv(COW_RESULTS)"
   ]
  },
  {
   "cell_type": "code",
   "execution_count": null,
   "metadata": {
    "scrolled": false
   },
   "outputs": [],
   "source": [
    "regions = [[4793, 4274, 4753, 4582, 4794], [3684, 8983, 8962, 6162, 7433]]\n",
    "plz_map = {4793: 'Farm 1', 4274: 'Farm 2', 4753: 'Farm 3', 4582: 'Farm 4', 4794: 'Farm 5',\n",
    "           3684: 'Province:<br>Lower Austria', 8983: 'Province:<br>Styria ', 8962: 'Province:<br>Styria', \n",
    "           6162: 'Province:<br>Tyrol', 7433: 'Province:<br>Burgenland'}\n",
    "\n",
    "for idx, region in enumerate(regions):\n",
    "    fig = go.Figure()\n",
    "\n",
    "    for duration in df_results['duration'].unique():\n",
    "        for plz in region:\n",
    "            if plz == 4794:\n",
    "                results = df_results.loc[(df_results['duration'] == duration) & (df_results['postal_code'] == plz) & (df_results['animal_id'] == '5bbe020ae89dca5838f92a66')]['result'].to_numpy()\n",
    "            else:\n",
    "                results = df_results.loc[(df_results['duration'] == duration) & (df_results['postal_code'] == plz)]['result'].to_numpy()\n",
    "            x = [[plz_map[plz]]*len(results), ['{:3d} days'.format(int(duration))]*len(results)]\n",
    "            fig.add_trace(go.Box(y=results, x=x, name='Days: {:3d}'.format(int(duration)), showlegend=False))\n",
    "            \n",
    "    fig.update_yaxes(title='L2-Error (km)', range=[0, 125])\n",
    "    fig.update_layout(margin={\"r\":0,\"t\":0,\"l\":0,\"b\":0}, font=dict(size=16))\n",
    "    fig.write_image('plots/error_animals_{:}.pdf'.format(idx))\n",
    "    fig.show()"
   ]
  },
  {
   "cell_type": "code",
   "execution_count": null,
   "metadata": {},
   "outputs": [],
   "source": [
    "mapping = LOCATION_MAPPING_AT\n",
    "provinces = mapping['province'].unique()\n",
    "\n",
    "for province in provinces:\n",
    "    min_plz = mapping.loc[mapping['province'] == province]['zip'].min()\n",
    "    max_plz = mapping.loc[mapping['province'] == province]['zip'].max()\n",
    "\n",
    "    results = df_results.loc[(df_results['postal_code'] >= min_plz) &\n",
    "                             (df_results['postal_code'] <= max_plz) & \n",
    "                             (df_results['duration'] == 365)]\n",
    "    if results.empty:\n",
    "        continue\n",
    "\n",
    "    print('{:14}: {:5.2f}, {:5.2f}'.format(province, results['result'].median(), results['result'].mean()))\n",
    "    \n",
    "print('-----------------------------')\n",
    "results = df_results.loc[df_results['duration'] == 365]\n",
    "print('Total         : {:5.2f}, {:5.2f}'.format(results['result'].median(), results['result'].mean()))\n",
    "results = df_results.loc[df_results['duration'] == 7]\n",
    "print('Total (week)  : {:5.2f}, {:5.2f}'.format(results['result'].median(), results['result'].mean()))"
   ]
  },
  {
   "cell_type": "code",
   "execution_count": null,
   "metadata": {
    "scrolled": false
   },
   "outputs": [],
   "source": [
    "fig = go.Figure()\n",
    "\n",
    "for duration in df_results['duration'].unique():\n",
    "    vals = df_results.loc[df_results['duration']==duration]['result'].to_numpy()\n",
    "    fig.add_trace(go.Box(y=vals, name='Days: {:3d}'.format(int(duration))))\n",
    "\n",
    "fig.update_yaxes(title='L2-Error (km)')\n",
    "fig.update_layout(margin={\"r\":0,\"t\":0,\"l\":0,\"b\":0}, font=FONT, template='simple_white')\n",
    "fig.write_image('plots/error_full.pdf')\n",
    "#fig.show()"
   ]
  },
  {
   "cell_type": "code",
   "execution_count": null,
   "metadata": {},
   "outputs": [],
   "source": [
    "df_cow = pd.read_csv(DF_COW)\n",
    "\n",
    "with open('austria.geojson', 'r') as f:\n",
    "    geojson = json.load(f)\n",
    "\n",
    "mapping = LOCATION_MAPPING_AT\n",
    "lang_mapping = {'Vienna': 'Wien', 'Lower Austria': 'Niederösterreich', 'Upper Austria': 'Oberösterreich',\n",
    "                'Salzburg': 'Salzburg', 'Tyrol': 'Tirol', 'Vorarlberg': 'Vorarlberg', 'Burgenland': 'Burgenland',\n",
    "                'Styria': 'Steiermark', 'Carinthia': 'Kärnten', 'South Tyrol': 'Südtirol'}\n",
    "\n",
    "provinces = Counter()\n",
    "for plz in df_cow['postal_code'].unique():\n",
    "    province = mapping.loc[mapping['zip'] == plz]['province'].squeeze()\n",
    "    provinces[province] += 1\n",
    "provinces['Vorarlberg'] = 0\n",
    "\n",
    "df = pd.DataFrame([{'Province': p[0], 'Count': p[1]} for p in provinces.items()])\n",
    "df['Bundesland'] = df['Province'].apply(lambda x: lang_mapping[x])"
   ]
  },
  {
   "cell_type": "code",
   "execution_count": null,
   "metadata": {
    "scrolled": false
   },
   "outputs": [],
   "source": [
    "box = go.Choroplethmapbox(geojson=geojson, locations=df['Bundesland'], z=df['Count'],\n",
    "                          featureidkey='properties.name', text=df['Province'], hoverinfo='text')\n",
    "\n",
    "fig = go.Figure(box)\n",
    "fig.update_layout(mapbox_style='white-bg', mapbox_zoom=5.8, mapbox_center = {\"lat\": 47.7, \"lon\": 13.31})\n",
    "fig.update_layout(margin={\"r\":0,\"t\":0,\"l\":0,\"b\":0})\n",
    "fig.write_image('./plots/map_austria.pdf')\n",
    "#fig.show()"
   ]
  }
 ],
 "metadata": {
  "kernelspec": {
   "display_name": "Python 3",
   "language": "python",
   "name": "python3"
  },
  "language_info": {
   "codemirror_mode": {
    "name": "ipython",
    "version": 3
   },
   "file_extension": ".py",
   "mimetype": "text/x-python",
   "name": "python",
   "nbconvert_exporter": "python",
   "pygments_lexer": "ipython3",
   "version": "3.7.9"
  }
 },
 "nbformat": 4,
 "nbformat_minor": 4
}
